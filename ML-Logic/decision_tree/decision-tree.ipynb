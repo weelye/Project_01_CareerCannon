{
 "cells": [
  {
   "cell_type": "code",
   "execution_count": 2,
   "metadata": {
    "executionInfo": {
     "elapsed": 2011,
     "status": "ok",
     "timestamp": 1714214140497,
     "user": {
      "displayName": "Kit Weng Cheah",
      "userId": "09612946197744884880"
     },
     "user_tz": -480
    },
    "id": "TFlWaIJp4zc9"
   },
   "outputs": [],
   "source": [
    "import pandas as pd\n",
    "import numpy as np\n",
    "from sklearn.tree import DecisionTreeClassifier # Import Decision Tree Classifier\n",
    "from sklearn.model_selection import train_test_split # Import train_test_split function\n",
    "from sklearn import metrics\n",
    "import os"
   ]
  },
  {
   "cell_type": "code",
   "execution_count": 3,
   "metadata": {
    "colab": {
     "base_uri": "https://localhost:8080/"
    },
    "executionInfo": {
     "elapsed": 22964,
     "status": "ok",
     "timestamp": 1714214163452,
     "user": {
      "displayName": "Kit Weng Cheah",
      "userId": "09612946197744884880"
     },
     "user_tz": -480
    },
    "id": "3Jct92585BRY",
    "outputId": "d260951d-f377-481e-c958-7becea74e8f6"
   },
   "outputs": [],
   "source": [
    "# from google.colab import drive\n",
    "# drive.mount('/content/drive')"
   ]
  },
  {
   "cell_type": "markdown",
   "metadata": {
    "id": "kgdMvLQX7kFG"
   },
   "source": [
    "# Access to workspace directory\n",
    "Make sure you have added the shortcut from the shared drive to your \"My Drive\""
   ]
  },
  {
   "cell_type": "code",
   "execution_count": 4,
   "metadata": {
    "colab": {
     "base_uri": "https://localhost:8080/"
    },
    "executionInfo": {
     "elapsed": 5,
     "status": "ok",
     "timestamp": 1714155056003,
     "user": {
      "displayName": "Kit Weng Cheah",
      "userId": "09612946197744884880"
     },
     "user_tz": -480
    },
    "id": "qgOWsFil7LIq",
    "outputId": "49fd944e-0e62-4a3e-f54b-954dc0c9da6f"
   },
   "outputs": [],
   "source": [
    "# path = \"/content/drive/My Drive/\"\n",
    "# dir_list = os.listdir(path)\n",
    "# print(dir_list) # Make sure you see \"data_workspace\" in the listing"
   ]
  },
  {
   "cell_type": "markdown",
   "metadata": {
    "id": "vB3szC1HIfwy"
   },
   "source": [
    "# Load data into dataframe"
   ]
  },
  {
   "cell_type": "markdown",
   "metadata": {
    "id": "ETCecwYgJPRr"
   },
   "source": [
    "## Read CSV"
   ]
  },
  {
   "cell_type": "code",
   "execution_count": 5,
   "metadata": {
    "executionInfo": {
     "elapsed": 53693,
     "status": "ok",
     "timestamp": 1714214217142,
     "user": {
      "displayName": "Kit Weng Cheah",
      "userId": "09612946197744884880"
     },
     "user_tz": -480
    },
    "id": "_of20PgbIfZW"
   },
   "outputs": [],
   "source": [
    "# file_path = '/content/drive/My Drive/data_workspace/data_it_jobs.csv'\n",
    "\n",
    "file_path = '../data/data_it_jobs.csv'\n",
    "df = pd.read_csv(file_path)"
   ]
  },
  {
   "cell_type": "markdown",
   "metadata": {
    "id": "cUBL1Pl-Jeax"
   },
   "source": [
    "## Drop unused columns"
   ]
  },
  {
   "cell_type": "code",
   "execution_count": 6,
   "metadata": {
    "executionInfo": {
     "elapsed": 1069,
     "status": "ok",
     "timestamp": 1714214218208,
     "user": {
      "displayName": "Kit Weng Cheah",
      "userId": "09612946197744884880"
     },
     "user_tz": -480
    },
    "id": "cslUc8wiJkRi"
   },
   "outputs": [],
   "source": [
    "df = df.drop(['job_title', 'search_country', 'job_level'], axis = 1)"
   ]
  },
  {
   "cell_type": "markdown",
   "metadata": {
    "id": "5toQAAodhzig"
   },
   "source": [
    "## Split x and y"
   ]
  },
  {
   "cell_type": "code",
   "execution_count": 7,
   "metadata": {
    "executionInfo": {
     "elapsed": 544,
     "status": "ok",
     "timestamp": 1714214218750,
     "user": {
      "displayName": "Kit Weng Cheah",
      "userId": "09612946197744884880"
     },
     "user_tz": -480
    },
    "id": "OxWQSlq2h2l1"
   },
   "outputs": [],
   "source": [
    "df_x = df.drop(['search_position'], axis=1)\n",
    "\n",
    "df_y = df.search_position"
   ]
  },
  {
   "cell_type": "code",
   "execution_count": 8,
   "metadata": {
    "colab": {
     "base_uri": "https://localhost:8080/"
    },
    "executionInfo": {
     "elapsed": 324,
     "status": "ok",
     "timestamp": 1714214245066,
     "user": {
      "displayName": "Kit Weng Cheah",
      "userId": "09612946197744884880"
     },
     "user_tz": -480
    },
    "id": "ckPNXdsvII1I",
    "outputId": "d26cb16a-e113-4b2b-e430-4c9da3d005a4"
   },
   "outputs": [
    {
     "data": {
      "text/plain": [
       "array(['data_base_administrator', 'maintenance_data_analyst',\n",
       "       'software_engineer'], dtype=object)"
      ]
     },
     "execution_count": 8,
     "metadata": {},
     "output_type": "execute_result"
    }
   ],
   "source": [
    "df_y.unique()"
   ]
  },
  {
   "cell_type": "markdown",
   "metadata": {
    "id": "1zmX4vwsKEcs"
   },
   "source": [
    "## One hot encoding"
   ]
  },
  {
   "cell_type": "code",
   "execution_count": 9,
   "metadata": {
    "id": "CRzpMSs7KGhy"
   },
   "outputs": [],
   "source": [
    "df_y = pd.get_dummies(df_y, columns=['search_position'], prefix=None)"
   ]
  },
  {
   "cell_type": "markdown",
   "metadata": {
    "id": "CXX2a9sclnjS"
   },
   "source": [
    "## Split training and test data"
   ]
  },
  {
   "cell_type": "code",
   "execution_count": 10,
   "metadata": {
    "id": "em9sy_yelpf7"
   },
   "outputs": [],
   "source": [
    "X_train, X_test, y_train, y_test = train_test_split(df_x, df_y.software_engineer, test_size=0.3, random_state=1) # 70% training and 30% test"
   ]
  },
  {
   "cell_type": "markdown",
   "metadata": {
    "id": "HUS3RTuqK2NW"
   },
   "source": [
    "# Train"
   ]
  },
  {
   "cell_type": "code",
   "execution_count": 11,
   "metadata": {
    "id": "TdqupH_yK44M"
   },
   "outputs": [],
   "source": [
    "# Create Decision Tree classifer object\n",
    "clf = DecisionTreeClassifier()\n",
    "\n",
    "# prune\n",
    "path = clf.cost_complexity_pruning_path(X_train, y_train)\n",
    "\n",
    "ccp_alphas, impurities = path.ccp_alphas, path.impurities\n",
    "\n",
    "clfs = []\n",
    "\n",
    "for ccp_alpha in ccp_alphas:\n",
    "    clf = DecisionTreeClassifier(random_state=0, ccp_alpha=ccp_alpha)\n",
    "\n",
    "    # Train Decision Tree Classifer\n",
    "    clf.fit(X_train, y_train)\n",
    "\n",
    "    clfs.append(clf)"
   ]
  },
  {
   "cell_type": "markdown",
   "metadata": {
    "id": "ln-rdvD6l3OY"
   },
   "source": [
    "## Validate"
   ]
  },
  {
   "cell_type": "code",
   "execution_count": 12,
   "metadata": {
    "colab": {
     "base_uri": "https://localhost:8080/",
     "height": 472
    },
    "executionInfo": {
     "elapsed": 80549,
     "status": "ok",
     "timestamp": 1714158586853,
     "user": {
      "displayName": "Kit Weng Cheah",
      "userId": "09612946197744884880"
     },
     "user_tz": -480
    },
    "id": "UAZ1bJ7Cl5nX",
    "outputId": "d6d8115a-265a-4310-e5e9-059d04970d42"
   },
   "outputs": [
    {
     "data": {
      "image/png": "[encoded data removed]",
      "text/plain": [
       "<Figure size 640x480 with 1 Axes>"
      ]
     },
     "metadata": {},
     "output_type": "display_data"
    }
   ],
   "source": [
    "from sklearn.metrics import accuracy_score\n",
    "import matplotlib.pyplot as plt\n",
    "\n",
    "train_scores = [clf.score(X_train, y_train) for clf in clfs]\n",
    "test_scores = [clf.score(X_test, y_test) for clf in clfs]\n",
    "\n",
    "fig, ax = plt.subplots()\n",
    "ax.set_xlabel(\"alpha\")\n",
    "ax.set_ylabel(\"accuracy\")\n",
    "ax.set_title(\"Accuracy vs alpha for training and testing sets\")\n",
    "ax.plot(ccp_alphas, train_scores, marker=\"o\", label=\"train\", drawstyle=\"steps-post\")\n",
    "ax.plot(ccp_alphas, test_scores, marker=\"o\", label=\"test\", drawstyle=\"steps-post\")\n",
    "ax.legend()\n",
    "plt.show()\n"
   ]
  },
  {
   "cell_type": "markdown",
   "metadata": {
    "id": "bI-8eoNc0f0p"
   },
   "source": [
    "## Optimal ccp_alpha"
   ]
  },
  {
   "cell_type": "code",
   "execution_count": 13,
   "metadata": {
    "colab": {
     "base_uri": "https://localhost:8080/"
    },
    "executionInfo": {
     "elapsed": 565,
     "status": "ok",
     "timestamp": 1714159095017,
     "user": {
      "displayName": "Kit Weng Cheah",
      "userId": "09612946197744884880"
     },
     "user_tz": -480
    },
    "id": "G_LWMsU00jB4",
    "outputId": "e5617f50-dcbb-455b-bcec-bcd1494c4365"
   },
   "outputs": [
    {
     "name": "stdout",
     "output_type": "stream",
     "text": [
      "index 128 || 0.0028892253920769495 || 0.8278985507246377\n",
      "index 129 || 0.0035097890464014236 || 0.8278985507246377\n",
      "index 130 || 0.005069377849595158 || 0.8278985507246377\n",
      "index 131 || 0.006950100053880831 || 0.8278985507246377\n"
     ]
    }
   ],
   "source": [
    "for i in range(len(ccp_alphas)):\n",
    "  if(ccp_alphas[i] < 0.0025 or ccp_alphas[i] > 0.008):\n",
    "    continue\n",
    "  print(\"index\", i, \"||\", ccp_alphas[i], \"||\", test_scores[i])\n",
    "\n",
    "clf = clfs[126]"
   ]
  },
  {
   "cell_type": "markdown",
   "metadata": {
    "id": "uRcj9quGyy32"
   },
   "source": [
    "## Top Features"
   ]
  },
  {
   "cell_type": "code",
   "execution_count": 14,
   "metadata": {
    "colab": {
     "base_uri": "https://localhost:8080/"
    },
    "executionInfo": {
     "elapsed": 798,
     "status": "ok",
     "timestamp": 1714159165297,
     "user": {
      "displayName": "Kit Weng Cheah",
      "userId": "09612946197744884880"
     },
     "user_tz": -480
    },
    "id": "2kbQHn03y1Sn",
    "outputId": "ced7c3e4-9b77-4c93-8047-e65c1ac2e80c"
   },
   "outputs": [
    {
     "name": "stdout",
     "output_type": "stream",
     "text": [
      "['typescript', 'angular', 'node.js', 'software_engineering', 'sql', 'software_development']\n"
     ]
    }
   ],
   "source": [
    "most_features_frame = pd.DataFrame(\n",
    "    data=clf.feature_importances_,\n",
    "    columns=[\"importance\"],\n",
    "    index=X_train.columns,\n",
    ").sort_values(by=[\"importance\"], ascending=False)\n",
    "\n",
    "# print(most_features_frame)\n",
    "top_5_feature = most_features_frame.index[:6]\n",
    "top_5_feature_list = [i for i in top_5_feature]\n",
    "print(top_5_feature_list)"
   ]
  },
  {
   "cell_type": "markdown",
   "metadata": {
    "id": "n9N1kHu2m2k-"
   },
   "source": [
    "## Visualization"
   ]
  },
  {
   "cell_type": "code",
   "execution_count": 15,
   "metadata": {
    "colab": {
     "base_uri": "https://localhost:8080/",
     "height": 935
    },
    "executionInfo": {
     "elapsed": 320,
     "status": "ok",
     "timestamp": 1714159107649,
     "user": {
      "displayName": "Kit Weng Cheah",
      "userId": "09612946197744884880"
     },
     "user_tz": -480
    },
    "id": "1YTL2x6hm4C2",
    "outputId": "95f85271-ec7f-409a-d772-d10c017b1b0d"
   },
   "outputs": [],
   "source": [
    "# from graphviz import Source\n",
    "# from sklearn import tree\n",
    "\n",
    "# Source( tree.export_graphviz(clf, out_file=None, feature_names=df_x.columns))\n",
    "# #graph.format = 'png'\n",
    "# #png_bytes = graph.pipe(format='png')\n",
    "# #with open('dtree_pipe.png','wb') as f:\n",
    "# #    f.write(png_bytes)"
   ]
  },
  {
   "cell_type": "code",
   "execution_count": 16,
   "metadata": {
    "id": "n8ONSS9CJs4J"
   },
   "outputs": [],
   "source": [
    "#df_data.head()\n",
    "\n",
    "#df_y.head()"
   ]
  },
  {
   "cell_type": "markdown",
   "metadata": {
    "id": "VGnc84TT2VSS"
   },
   "source": [
    "## Predict"
   ]
  },
  {
   "cell_type": "code",
   "execution_count": 30,
   "metadata": {
    "colab": {
     "base_uri": "https://localhost:8080/",
     "height": 81
    },
    "executionInfo": {
     "elapsed": 328,
     "status": "ok",
     "timestamp": 1714162141955,
     "user": {
      "displayName": "Kit Weng Cheah",
      "userId": "09612946197744884880"
     },
     "user_tz": -480
    },
    "id": "2BKAha5W2W3e",
    "outputId": "b818d3bd-ce8c-4794-f8e6-1a8d647f3f0e"
   },
   "outputs": [
    {
     "data": {
      "text/html": [
       "<div>\n",
       "<style scoped>\n",
       "    .dataframe tbody tr th:only-of-type {\n",
       "        vertical-align: middle;\n",
       "    }\n",
       "\n",
       "    .dataframe tbody tr th {\n",
       "        vertical-align: top;\n",
       "    }\n",
       "\n",
       "    .dataframe thead th {\n",
       "        text-align: right;\n",
       "    }\n",
       "</style>\n",
       "<table border=\"1\" class=\"dataframe\">\n",
       "  <thead>\n",
       "    <tr style=\"text-align: right;\">\n",
       "      <th></th>\n",
       "      <th>not_software_engineer</th>\n",
       "      <th>is_software_engineer</th>\n",
       "    </tr>\n",
       "  </thead>\n",
       "  <tbody>\n",
       "    <tr>\n",
       "      <th>0</th>\n",
       "      <td>0.403226</td>\n",
       "      <td>0.596774</td>\n",
       "    </tr>\n",
       "  </tbody>\n",
       "</table>\n",
       "</div>"
      ],
      "text/plain": [
       "   not_software_engineer  is_software_engineer\n",
       "0               0.403226              0.596774"
      ]
     },
     "execution_count": 30,
     "metadata": {},
     "output_type": "execute_result"
    }
   ],
   "source": [
    "df_prediction_input = pd.DataFrame(0, index=np.arange(1),columns=X_train.columns)\n",
    "\n",
    "df_prediction_input.loc[:, 'node.js'] = 1\n",
    "\n",
    "#df_prediction_input.loc[:, 'angular'] = 1\n",
    "\n",
    "#df_prediction_input.loc[:, 'zoning'] = 1\n",
    "\n",
    "#print(df_prediction_input.columns)\n",
    "\n",
    "predicted = clf.predict_proba(df_prediction_input)\n",
    "\n",
    "pd.DataFrame(predicted, columns=['not_software_engineer', 'is_software_engineer'])"
   ]
  },
  {
   "cell_type": "code",
   "execution_count": 27,
   "metadata": {},
   "outputs": [
    {
     "data": {
      "text/html": [
       "<div>\n",
       "<style scoped>\n",
       "    .dataframe tbody tr th:only-of-type {\n",
       "        vertical-align: middle;\n",
       "    }\n",
       "\n",
       "    .dataframe tbody tr th {\n",
       "        vertical-align: top;\n",
       "    }\n",
       "\n",
       "    .dataframe thead th {\n",
       "        text-align: right;\n",
       "    }\n",
       "</style>\n",
       "<table border=\"1\" class=\"dataframe\">\n",
       "  <thead>\n",
       "    <tr style=\"text-align: right;\">\n",
       "      <th></th>\n",
       "      <th>#_wearemarkerstudy_employee_network</th>\n",
       "      <th>#edw</th>\n",
       "      <th>._net_core_c#</th>\n",
       "      <th>.asp_web_application_programming</th>\n",
       "      <th>.ksh</th>\n",
       "      <th>.net</th>\n",
       "      <th>.net_(c#)</th>\n",
       "      <th>.net_(preferably_c#)_programming</th>\n",
       "      <th>.net_/_c#</th>\n",
       "      <th>.net_c#</th>\n",
       "      <th>...</th>\n",
       "      <th>zfs</th>\n",
       "      <th>zoning</th>\n",
       "      <th>zookeeper</th>\n",
       "      <th>zoom</th>\n",
       "      <th>zoom_admin</th>\n",
       "      <th>zoom_rooms</th>\n",
       "      <th>zowe</th>\n",
       "      <th>zscaler</th>\n",
       "      <th>ztna/sase</th>\n",
       "      <th>zwick</th>\n",
       "    </tr>\n",
       "  </thead>\n",
       "  <tbody>\n",
       "    <tr>\n",
       "      <th>0</th>\n",
       "      <td>0</td>\n",
       "      <td>0</td>\n",
       "      <td>0</td>\n",
       "      <td>0</td>\n",
       "      <td>0</td>\n",
       "      <td>0</td>\n",
       "      <td>0</td>\n",
       "      <td>0</td>\n",
       "      <td>0</td>\n",
       "      <td>0</td>\n",
       "      <td>...</td>\n",
       "      <td>0</td>\n",
       "      <td>0</td>\n",
       "      <td>0</td>\n",
       "      <td>0</td>\n",
       "      <td>0</td>\n",
       "      <td>0</td>\n",
       "      <td>0</td>\n",
       "      <td>0</td>\n",
       "      <td>0</td>\n",
       "      <td>0</td>\n",
       "    </tr>\n",
       "  </tbody>\n",
       "</table>\n",
       "<p>1 rows × 24969 columns</p>\n",
       "</div>"
      ],
      "text/plain": [
       "   #_wearemarkerstudy_employee_network  #edw  ._net_core_c#  \\\n",
       "0                                    0     0              0   \n",
       "\n",
       "   .asp_web_application_programming  .ksh  .net  .net_(c#)  \\\n",
       "0                                 0     0     0          0   \n",
       "\n",
       "   .net_(preferably_c#)_programming  .net_/_c#  .net_c#  ...  zfs  zoning  \\\n",
       "0                                 0          0        0  ...    0       0   \n",
       "\n",
       "   zookeeper  zoom  zoom_admin  zoom_rooms  zowe  zscaler  ztna/sase  zwick  \n",
       "0          0     0           0           0     0        0          0      0  \n",
       "\n",
       "[1 rows x 24969 columns]"
      ]
     },
     "execution_count": 27,
     "metadata": {},
     "output_type": "execute_result"
    }
   ],
   "source": [
    "df_prediction_input"
   ]
  },
  {
   "cell_type": "markdown",
   "metadata": {
    "id": "mcDwHNiPADUx"
   },
   "source": [
    "## Save model"
   ]
  },
  {
   "cell_type": "code",
   "execution_count": 18,
   "metadata": {
    "id": "e11rbAPcAE70"
   },
   "outputs": [
    {
     "data": {
      "text/plain": [
       "['software_engineer_clf.joblib']"
      ]
     },
     "execution_count": 18,
     "metadata": {},
     "output_type": "execute_result"
    }
   ],
   "source": [
    "from joblib import dump\n",
    "\n",
    "filename = 'software_engineer_clf.joblib'\n",
    "dump(clf, filename)\n",
    "\n",
    "# !cp \"$filename\" \"/content/drive/My Drive/data_workspace/$filename\""
   ]
  },
  {
   "cell_type": "markdown",
   "metadata": {
    "id": "QKkIhcATBbTk"
   },
   "source": [
    "## Load from file"
   ]
  },
  {
   "cell_type": "code",
   "execution_count": 19,
   "metadata": {
    "colab": {
     "base_uri": "https://localhost:8080/",
     "height": 81
    },
    "executionInfo": {
     "elapsed": 1391,
     "status": "ok",
     "timestamp": 1714162198129,
     "user": {
      "displayName": "Kit Weng Cheah",
      "userId": "09612946197744884880"
     },
     "user_tz": -480
    },
    "id": "QVfIXrYIBd4c",
    "outputId": "e7ecabb1-e6b1-4059-f7a4-edf7235d1da1"
   },
   "outputs": [
    {
     "data": {
      "text/html": [
       "<div>\n",
       "<style scoped>\n",
       "    .dataframe tbody tr th:only-of-type {\n",
       "        vertical-align: middle;\n",
       "    }\n",
       "\n",
       "    .dataframe tbody tr th {\n",
       "        vertical-align: top;\n",
       "    }\n",
       "\n",
       "    .dataframe thead th {\n",
       "        text-align: right;\n",
       "    }\n",
       "</style>\n",
       "<table border=\"1\" class=\"dataframe\">\n",
       "  <thead>\n",
       "    <tr style=\"text-align: right;\">\n",
       "      <th></th>\n",
       "      <th>not_software_engineer</th>\n",
       "      <th>is_software_engineer</th>\n",
       "    </tr>\n",
       "  </thead>\n",
       "  <tbody>\n",
       "    <tr>\n",
       "      <th>0</th>\n",
       "      <td>0.8295</td>\n",
       "      <td>0.1705</td>\n",
       "    </tr>\n",
       "  </tbody>\n",
       "</table>\n",
       "</div>"
      ],
      "text/plain": [
       "   not_software_engineer  is_software_engineer\n",
       "0                 0.8295                0.1705"
      ]
     },
     "execution_count": 19,
     "metadata": {},
     "output_type": "execute_result"
    }
   ],
   "source": [
    "from joblib import load\n",
    "\n",
    "filename = 'software_engineer_clf.joblib'\n",
    "\n",
    "clf_load = load(filename)\n",
    "\n",
    "df_prediction_input = pd.DataFrame(0, index=np.arange(1),columns=X_train.columns)\n",
    "\n",
    "#df_prediction_input.loc[:, 'node.js'] = 1\n",
    "\n",
    "predicted = clf_load.predict_proba(df_prediction_input)\n",
    "\n",
    "pd.DataFrame(predicted, columns=['not_software_engineer', 'is_software_engineer'])"
   ]
  },
  {
   "cell_type": "code",
   "execution_count": 20,
   "metadata": {},
   "outputs": [
    {
     "data": {
      "text/html": [
       "<div>\n",
       "<style scoped>\n",
       "    .dataframe tbody tr th:only-of-type {\n",
       "        vertical-align: middle;\n",
       "    }\n",
       "\n",
       "    .dataframe tbody tr th {\n",
       "        vertical-align: top;\n",
       "    }\n",
       "\n",
       "    .dataframe thead th {\n",
       "        text-align: right;\n",
       "    }\n",
       "</style>\n",
       "<table border=\"1\" class=\"dataframe\">\n",
       "  <thead>\n",
       "    <tr style=\"text-align: right;\">\n",
       "      <th></th>\n",
       "      <th>#_wearemarkerstudy_employee_network</th>\n",
       "      <th>#edw</th>\n",
       "      <th>._net_core_c#</th>\n",
       "      <th>.asp_web_application_programming</th>\n",
       "      <th>.ksh</th>\n",
       "      <th>.net</th>\n",
       "      <th>.net_(c#)</th>\n",
       "      <th>.net_(preferably_c#)_programming</th>\n",
       "      <th>.net_/_c#</th>\n",
       "      <th>.net_c#</th>\n",
       "      <th>...</th>\n",
       "      <th>zfs</th>\n",
       "      <th>zoning</th>\n",
       "      <th>zookeeper</th>\n",
       "      <th>zoom</th>\n",
       "      <th>zoom_admin</th>\n",
       "      <th>zoom_rooms</th>\n",
       "      <th>zowe</th>\n",
       "      <th>zscaler</th>\n",
       "      <th>ztna/sase</th>\n",
       "      <th>zwick</th>\n",
       "    </tr>\n",
       "  </thead>\n",
       "  <tbody>\n",
       "    <tr>\n",
       "      <th>0</th>\n",
       "      <td>0</td>\n",
       "      <td>0</td>\n",
       "      <td>0</td>\n",
       "      <td>0</td>\n",
       "      <td>0</td>\n",
       "      <td>0</td>\n",
       "      <td>0</td>\n",
       "      <td>0</td>\n",
       "      <td>0</td>\n",
       "      <td>0</td>\n",
       "      <td>...</td>\n",
       "      <td>0</td>\n",
       "      <td>0</td>\n",
       "      <td>0</td>\n",
       "      <td>0</td>\n",
       "      <td>0</td>\n",
       "      <td>0</td>\n",
       "      <td>0</td>\n",
       "      <td>0</td>\n",
       "      <td>0</td>\n",
       "      <td>0</td>\n",
       "    </tr>\n",
       "  </tbody>\n",
       "</table>\n",
       "<p>1 rows × 24969 columns</p>\n",
       "</div>"
      ],
      "text/plain": [
       "   #_wearemarkerstudy_employee_network  #edw  ._net_core_c#  \\\n",
       "0                                    0     0              0   \n",
       "\n",
       "   .asp_web_application_programming  .ksh  .net  .net_(c#)  \\\n",
       "0                                 0     0     0          0   \n",
       "\n",
       "   .net_(preferably_c#)_programming  .net_/_c#  .net_c#  ...  zfs  zoning  \\\n",
       "0                                 0          0        0  ...    0       0   \n",
       "\n",
       "   zookeeper  zoom  zoom_admin  zoom_rooms  zowe  zscaler  ztna/sase  zwick  \n",
       "0          0     0           0           0     0        0          0      0  \n",
       "\n",
       "[1 rows x 24969 columns]"
      ]
     },
     "execution_count": 20,
     "metadata": {},
     "output_type": "execute_result"
    }
   ],
   "source": [
    "df_prediction_input"
   ]
  },
  {
   "cell_type": "code",
   "execution_count": 26,
   "metadata": {},
   "outputs": [],
   "source": [
    "X_train.to_csv('columns.csv')"
   ]
  }
 ],
 "metadata": {
  "colab": {
   "authorship_tag": "ABX9TyPppEUnp+Fn5WP7CQuf73gS",
   "collapsed_sections": [
    "kgdMvLQX7kFG"
   ],
   "provenance": [
    {
     "file_id": "1jnpmsZqbnkb3Rzi1RioHjM3k2LMbrkdp",
     "timestamp": 1712851210312
    }
   ]
  },
  "kernelspec": {
   "display_name": "Python 3 (ipykernel)",
   "language": "python",
   "name": "python3"
  },
  "language_info": {
   "codemirror_mode": {
    "name": "ipython",
    "version": 3
   },
   "file_extension": ".py",
   "mimetype": "text/x-python",
   "name": "python",
   "nbconvert_exporter": "python",
   "pygments_lexer": "ipython3",
   "version": "3.12.3"
  }
 },
 "nbformat": 4,
 "nbformat_minor": 4
}
